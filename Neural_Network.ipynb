{
 "cells": [
  {
   "cell_type": "code",
   "execution_count": 125,
   "id": "48d2c61c",
   "metadata": {},
   "outputs": [],
   "source": [
    "import numpy as np\n",
    "# Scipy.special for the sigmoid function expit()\n",
    "import scipy.special\n",
    "# Library for plotting arrays\n",
    "import matplotlib.pyplot\n",
    "# Ensure the plots are inside this notebook, not an external window\n",
    "%matplotlib inline\n",
    "\n",
    "# Neural network class definition.\n",
    "class neuralNetwork:\n",
    "    \n",
    "    # Initialize neural network.\n",
    "    def __init__(self, inputnodes, hiddennodes, outputnodes, learningrate):\n",
    "        # Set number of nodes in each input, hidden and output layer.\n",
    "        self.inodes = inputnodes\n",
    "        self.hnodes = hiddennodes\n",
    "        self.onodes = outputnodes\n",
    "        \n",
    "        # Learning rate.\n",
    "        self.lr = learningrate\n",
    "        \n",
    "        # Link weight metrices, wih and who. \n",
    "        # Weights inside the arrays are w_i_j, where link is from node i to node j in the next layer.\n",
    "        # w11 w21\n",
    "        # w12 w22\n",
    "        self.wih = np.random.normal(0.0, pow(self.inodes, -0.5),(self.hnodes, self.inodes))\n",
    "        self.who = np.random.normal(0.0, pow(self.hnodes, -0.5),(self.onodes, self.hnodes))\n",
    "        \n",
    "        # Activation function is the sigmoid function.\n",
    "        self.activation_function = lambda x: scipy.special.expit(x)\n",
    "        \n",
    "        pass\n",
    "    \n",
    "    # Train the neural network.\n",
    "    def train(self, inputs_list, targets_list):\n",
    "        # Convert inputs list to 2D array.\n",
    "        inputs = np.array(inputs_list, ndmin = 2).T\n",
    "        targets = np.array(targets_list, ndmin = 2).T \n",
    "\n",
    "        # Calculate signals into hidden layer.\n",
    "        hidden_inputs = np.dot(self.wih, inputs)\n",
    "        # Calculate the signals emerging from hidden layer.\n",
    "        hidden_outputs = self.activation_function(hidden_inputs)\n",
    "\n",
    "        # Calculate signals into final output layer.\n",
    "        final_inputs = np.dot(self.who, hidden_outputs)\n",
    "        # Calculate the signals emerging from final output layer.\n",
    "        final_outputs = self.activation_function(final_inputs)\n",
    "        \n",
    "        # Output layer error is the (target - actual).\n",
    "        output_errors = targets - final_outputs\n",
    "        \n",
    "        # Hidden errors is the output_errors, split by weights, recombined at hidden nodes.\n",
    "        hidden_errors = np.dot(self.who.T, output_errors)\n",
    "        \n",
    "        # Update the weights for the links between the hidden and the output hayers.\n",
    "        self.who += self.lr * np.dot((output_errors*final_outputs*(1.0 - final_outputs)),np.transpose(hidden_outputs)) \n",
    "\n",
    "        # Update the weights for the links between the input and the hidden layers.\n",
    "        self.wih += self.lr * np.dot((hidden_errors*hidden_outputs*(1.0 - hidden_outputs)),np.transpose(inputs)) \n",
    "\n",
    "        pass\n",
    "    \n",
    "    # Query the neural network.\n",
    "    def query(self, inputs_list):  \n",
    "        # Convert inputs list to 2D array.\n",
    "        inputs = np.array(inputs_list, ndmin = 2).T\n",
    "        \n",
    "        # Calculate signals into hidden layer.\n",
    "        hidden_inputs = np.dot(self.wih, inputs)\n",
    "        # Calculate the signals emerging from hidden layer.\n",
    "        hidden_outputs = self.activation_function(hidden_inputs)\n",
    "\n",
    "        # Calculate signals into final output layer.\n",
    "        final_inputs = np.dot(self.who, hidden_outputs)\n",
    "        # Calculate the signals emerging from final output layer.\n",
    "        final_outputs = self.activation_function(final_inputs)\n",
    "        \n",
    "        return final_outputs\n",
    "    \n",
    "    pass\n",
    "\n"
   ]
  },
  {
   "cell_type": "code",
   "execution_count": 224,
   "id": "a4ad36e7",
   "metadata": {},
   "outputs": [
    {
     "name": "stdout",
     "output_type": "stream",
     "text": [
      "Performance =  0.9645\n"
     ]
    }
   ],
   "source": [
    "# Number of inputs, hidden and output nodes.\n",
    "input_nodes = 784\n",
    "hidden_nodes = 100\n",
    "output_nodes = 10\n",
    "\n",
    "# Learning rate is 0.1\n",
    "learning_rate = 0.1\n",
    "\n",
    "# Create instance of neural network.\n",
    "n = neuralNetwork(input_nodes, hidden_nodes, output_nodes, learning_rate)\n",
    "\n",
    "# Load the mnist training data CSV file into a list\n",
    "training_data_file = open(\"mnist_dataset/mnist_train.csv\", 'r')\n",
    "training_data_list = training_data_file.readlines()\n",
    "training_data_file.close()\n",
    "\n",
    "# Train neural network\n",
    "\n",
    "# Epochs is the number of times the training data set is used for training\n",
    "epochs = 5\n",
    "\n",
    "for e in range(epochs):\n",
    "    # Go through all records in the training dataset \n",
    "    for record in training_data_list:\n",
    "        # Split the record by the ',' commas\n",
    "        all_values = record.split(',')\n",
    "        # Scale and shift the inputs\n",
    "        inputs = (np.asfarray(all_values[1:]) / 255.0 * 0.99) + 0.01\n",
    "        # Create the target output values (all 0.01, except the desired label which is 0.99)\n",
    "        targets = np.zeros(output_nodes) + 0.01\n",
    "        # all_values[0] is the target label for this record\n",
    "        targets[int(all_values[0])] = 0.99\n",
    "        n.train(inputs, targets)\n",
    "        \n",
    "        ## create rotated variations\n",
    "        # rotated anticlockwise by x degrees\n",
    "        inputs_plusx_img = scipy.ndimage.rotate(inputs.reshape(28,28), 10, reshape=False, order=1, cval=0.01)\n",
    "        n.train(inputs_plusx_img.reshape(784), targets)\n",
    "        # rotated clockwise by x degrees\n",
    "        inputs_pminusx_img = scipy.ndimage.rotate(inputs.reshape(28,28), -10, reshape=False, order=1, cval=0.01)\n",
    "        n.train(inputs_minusx_img.reshape(784), targets)\n",
    "        \n",
    "        # rotated anticlockwise by 10 degrees\n",
    "        #inputs_plus10_img = scipy.ndimage.interpolation.rotate(inputs.reshape(28,28), 10, cval=0.01, order=1, reshape=False)\n",
    "        #n.train(inputs_plus10_img.reshape(784), targets)\n",
    "        # rotated clockwise by 10 degrees\n",
    "        #inputs_minus10_img = scipy.ndimage.interpolation.rotate(inputs.reshape(28,28), -10, cval=0.01, order=1, reshape=False)\n",
    "        #n.train(inputs_minus10_img.reshape(784), targets)     \n",
    "        \n",
    "        pass\n",
    "    pass\n",
    "\n",
    "# Load the mnist test data CSV file into a list\n",
    "test_data_file = open(\"mnist_dataset/mnist_test.csv\",'r')\n",
    "test_data_list = test_data_file.readlines()\n",
    "test_data_file.close()\n",
    "\n",
    "# Test the neural network\n",
    "\n",
    "# Scorecard for how well the network performs, initually empty\n",
    "scorecard = []\n",
    "\n",
    "# Go through all the records in the test data set\n",
    "for record in test_data_list:\n",
    "    # Split the record by the ',' commas\n",
    "    all_values = record.split(',')\n",
    "    # Correct answer is first value\n",
    "    correct_label = int(all_values[0])\n",
    "    # Scale  and shift the inputs\n",
    "    inputs = (np.asfarray(all_values[1:]) / 255.0 * 0.99) + 0.01\n",
    "    # Query the network\n",
    "    outputs = n.query(inputs)\n",
    "    # The index for the highest value corresponds to the label\n",
    "    label = np.argmax(outputs)\n",
    "    # Append correct or incorrect to list\n",
    "    if (label == correct_label):\n",
    "        # Network answer's matches correct answer, add 1 to scorecard[]\n",
    "        scorecard.append(1)\n",
    "    else:\n",
    "        # Network answer's doesn't match correct answer, add 0 to scorecard[]\n",
    "        scorecard.append(0)\n",
    "        pass\n",
    "    pass\n",
    "\n",
    "# Calculate the performance score, the fraction of correct answers\n",
    "scorecard_array = np.asarray(scorecard)\n",
    "print(\"Performance = \", scorecard_array.sum()/scorecard_array.size)"
   ]
  },
  {
   "cell_type": "code",
   "execution_count": 99,
   "id": "02a5c107",
   "metadata": {},
   "outputs": [],
   "source": [
    "# Number of inputs, hidden and output nodes.\n",
    "input_nodes = 784\n",
    "hidden_nodes = 100\n",
    "output_nodes = 10\n",
    "\n",
    "# Learning rate is 0.3\n",
    "learning_rate = 0.3\n",
    "\n",
    "# Create instance of neural network.\n",
    "n = neuralNetwork(input_nodes, hidden_nodes, output_nodes, learning_rate)\n",
    "\n",
    "# Load the mnist training data CSV file into a list\n",
    "training_data_file = open(\"mnist_dataset/mnist_train_100.csv\", 'r')\n",
    "training_data_list = training_data_file.readlines()\n",
    "training_data_file.close()\n",
    "\n",
    "# Train neural network\n",
    "\n",
    "# Go through all records in the training dataset \n",
    "for record in training_data_list:\n",
    "    # Split the record by the ',' commas\n",
    "    all_values = record.split(',')\n",
    "    # Scale and shift the inputs\n",
    "    inputs = (np.asfarray(all_values[1:]) / 255.0 * 0.99) + 0.01\n",
    "    # Create the target output values (all 0.01, except the desired label which is 0.99)\n",
    "    targets = np.zeros(output_nodes) + 0.01\n",
    "    # all_values[0] is the target label for this record\n",
    "    targets[int(all_values[0])] = 0.99\n",
    "    n.train(inputs, targets)\n",
    "    pass"
   ]
  },
  {
   "cell_type": "code",
   "execution_count": 101,
   "id": "afbf932d",
   "metadata": {},
   "outputs": [
    {
     "name": "stdout",
     "output_type": "stream",
     "text": [
      "7\n"
     ]
    }
   ],
   "source": [
    "# Get the first test record\n",
    "all_values = test_data_list[0].split(',')\n",
    "# Print the label\n",
    "print (all_values[0])"
   ]
  },
  {
   "cell_type": "code",
   "execution_count": 102,
   "id": "3f6c36e9",
   "metadata": {},
   "outputs": [
    {
     "data": {
      "text/plain": [
       "<matplotlib.image.AxesImage at 0x1cb5fa6bbd0>"
      ]
     },
     "execution_count": 102,
     "metadata": {},
     "output_type": "execute_result"
    },
    {
     "data": {
      "image/png": "[encoded data removed]",
      "text/plain": [
       "<Figure size 640x480 with 1 Axes>"
      ]
     },
     "metadata": {},
     "output_type": "display_data"
    }
   ],
   "source": [
    "image_array = np.asfarray(all_values[1:]).reshape((28,28))\n",
    "matplotlib.pyplot.imshow(image_array, cmap='Greys', interpolation='None')"
   ]
  },
  {
   "cell_type": "code",
   "execution_count": 103,
   "id": "3d5b44ca",
   "metadata": {},
   "outputs": [
    {
     "data": {
      "text/plain": [
       "array([[0.13251392],\n",
       "       [0.08873961],\n",
       "       [0.0396753 ],\n",
       "       [0.18393843],\n",
       "       [0.18186039],\n",
       "       [0.04794563],\n",
       "       [0.0447263 ],\n",
       "       [0.46911427],\n",
       "       [0.14824556],\n",
       "       [0.07233491]])"
      ]
     },
     "execution_count": 103,
     "metadata": {},
     "output_type": "execute_result"
    }
   ],
   "source": [
    "n.query((np.asfarray(all_values[1:]) / 255.0 * 0.99) + 0.01)"
   ]
  },
  {
   "cell_type": "code",
   "execution_count": 219,
   "id": "b72342aa",
   "metadata": {},
   "outputs": [
    {
     "name": "stdout",
     "output_type": "stream",
     "text": [
      "[[5.80486235e-04]\n",
      " [8.01666843e-03]\n",
      " [3.23665672e-04]\n",
      " [1.94773464e-01]\n",
      " [3.54794837e-05]\n",
      " [3.57481947e-02]\n",
      " [5.02268040e-04]\n",
      " [4.40160586e-03]\n",
      " [2.98032970e-05]\n",
      " [1.03728630e-03]]\n",
      "Network says  3\n",
      "match!\n"
     ]
    },
    {
     "data": {
      "image/png": "[encoded data removed]",
      "text/plain": [
       "<Figure size 640x480 with 1 Axes>"
      ]
     },
     "metadata": {},
     "output_type": "display_data"
    }
   ],
   "source": [
    "from PIL import Image\n",
    "import numpy as np\n",
    "color_img = np.asarray(Image.open(\"mnist_dataset/Handwritting.png\"))\n",
    "img = numpy.mean(color_img, axis=2)\n",
    "our_own_dataset=img.reshape(784)\n",
    "\n",
    "\n",
    "# reshape from 28x28 to list of 784 values, invert values\n",
    "img_data  = img_array.reshape(784)\n",
    "# then scale data to range from 0.01 to 1.0\n",
    "img_data = (our_own_dataset / 255.0 * 0.99) + 0.01\n",
    "\n",
    "# query the network\n",
    "outputs = n.query(img_data)\n",
    "print (outputs)\n",
    "\n",
    "# plot image\n",
    "matplotlib.pyplot.imshow(img.reshape(28,28), cmap='Greys', interpolation='None')\n",
    "\n",
    "# correct answer is first value\n",
    "correct_label = 3\n",
    "\n",
    "# the index of the highest value corresponds to the label\n",
    "label = numpy.argmax(outputs)\n",
    "print(\"Network says \", label)\n",
    "# append correct or incorrect to list\n",
    "if (label == correct_label):\n",
    "    print (\"match!\")\n",
    "else:\n",
    "    print (\"no match!\")\n",
    "    pass\n",
    "\n",
    "\n"
   ]
  },
  {
   "cell_type": "code",
   "execution_count": null,
   "id": "5b08058b",
   "metadata": {},
   "outputs": [],
   "source": []
  }
 ],
 "metadata": {
  "kernelspec": {
   "display_name": "Python 3 (ipykernel)",
   "language": "python",
   "name": "python3"
  },
  "language_info": {
   "codemirror_mode": {
    "name": "ipython",
    "version": 3
   },
   "file_extension": ".py",
   "mimetype": "text/x-python",
   "name": "python",
   "nbconvert_exporter": "python",
   "pygments_lexer": "ipython3",
   "version": "3.11.5"
  }
 },
 "nbformat": 4,
 "nbformat_minor": 5
}
